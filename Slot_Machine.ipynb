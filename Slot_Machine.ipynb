{
 "cells": [
  {
   "cell_type": "code",
   "execution_count": 66,
   "id": "79abf5f5-4850-4a2d-9460-a966b5fb0ab1",
   "metadata": {},
   "outputs": [],
   "source": [
    "import random\n",
    "\n",
    "MAX_LINES = 3\n",
    "MAX_BET = 100\n",
    "MIN_BET = 1\n",
    "\n",
    "ROWS = 3\n",
    "COLS = 3\n",
    "\n",
    "symbol_count = {\n",
    "    \"A\" : 2,\n",
    "    \"B\" : 4,\n",
    "    \"C\" : 6,\n",
    "    \"D\" : 8\n",
    "}\n",
    "\n",
    "symbol_values = {\n",
    "    \"A\" : 5,\n",
    "    \"B\" : 4,\n",
    "    \"C\" : 3,\n",
    "    \"D\" : 2\n",
    "}"
   ]
  },
  {
   "cell_type": "code",
   "execution_count": 68,
   "id": "6f2c202f-b4ae-456d-bee6-35643f9abc20",
   "metadata": {},
   "outputs": [],
   "source": [
    "def deposit() :\n",
    "    while True :\n",
    "        amount = input(\"How much amount do you want to deposit ? $\")\n",
    "        if(amount.isdigit()) :\n",
    "            amount = int(amount)\n",
    "            if(amount > 0) :\n",
    "                break\n",
    "            else :\n",
    "                print(\"Enter amount greater than 0\")\n",
    "        else :\n",
    "            print(\"Enter a number\")\n",
    "    return amount"
   ]
  },
  {
   "cell_type": "code",
   "execution_count": 70,
   "id": "7d4e579a-2c85-4651-aafa-147a3f087d59",
   "metadata": {},
   "outputs": [],
   "source": [
    "def get_number_of_lines():\n",
    "    while True:\n",
    "        lines = input(f\"Enter the number of lines you want to bet on (1-{MAX_LINES}): \")\n",
    "        if lines.isdigit():\n",
    "            lines = int(lines)\n",
    "            if 1 <= lines <= MAX_LINES:\n",
    "                return lines\n",
    "            else:\n",
    "                print(f\"Enter a number between 1 and {MAX_LINES}.\")\n",
    "        else:\n",
    "            print(\"Invalid input! Please enter a valid number.\")\n",
    "\n",
    "def get_bet() :\n",
    "    while True:\n",
    "        bet = input(f\"How much would you like to bet on each line in between {MIN_BET} - {MAX_BET}\")\n",
    "        if(bet.isdigit()) :\n",
    "            bet = int(bet)\n",
    "            if MIN_BET <= bet <= MAX_BET:\n",
    "                break\n",
    "            else :\n",
    "                print(f\"Enter a number between {MIN_BET} - {MAX_BET}\")\n",
    "        else :\n",
    "            print(\"Enter a valid number\")\n",
    "    return bet\n"
   ]
  },
  {
   "cell_type": "code",
   "execution_count": 72,
   "id": "dc935378-81e3-4377-b280-eac6c544f70d",
   "metadata": {},
   "outputs": [],
   "source": [
    "def get_slot_machine_spin(rows,cols,symbols) :\n",
    "    all_symbols = []\n",
    "    for symbol, symbol_count in symbols.items():\n",
    "        for _ in range(symbol_count) :\n",
    "            all_symbols.append(symbol)\n",
    "    columns = []\n",
    "    for _ in range(cols) :\n",
    "        column = []\n",
    "        current_symbols = all_symbols[:]\n",
    "        for _ in range(rows) :\n",
    "            value = random.choice(current_symbols)\n",
    "            current_symbols.remove(value)\n",
    "            column.append(value)\n",
    "\n",
    "        columns.append(column)\n",
    "\n",
    "    return columns\n",
    "    "
   ]
  },
  {
   "cell_type": "code",
   "execution_count": 74,
   "id": "808616a4-2d60-4955-83ab-4802c932c4d4",
   "metadata": {},
   "outputs": [],
   "source": [
    "def print_slot_machine(columns) :\n",
    "    for row in range(len(columns[0])):\n",
    "        for i,column in enumerate(columns):\n",
    "            if i!= len(columns) -1:\n",
    "                print(column[row] , end = \" | \")\n",
    "            else :\n",
    "                print(column[row] , end = \"\")\n",
    "        print()"
   ]
  },
  {
   "cell_type": "code",
   "execution_count": 94,
   "id": "ffd62462-a564-4989-a4d3-70d8d0bb19ca",
   "metadata": {},
   "outputs": [],
   "source": [
    "def main() :\n",
    "    balance = deposit()\n",
    "    while True :\n",
    "        print(f\"current balance is : ${balance}\")\n",
    "        ans = input(\"press enter to play (q to quit)\")\n",
    "        if(ans== \"q\") :\n",
    "            break\n",
    "        balance += spin(balance)\n",
    "    print(f\"You are left with : ${balance}\")\n",
    "\n",
    "def spin(balance) :\n",
    "    lines = get_number_of_lines()\n",
    "    while True :\n",
    "        bet = get_bet()\n",
    "        total_bet = bet*lines\n",
    "        if(total_bet > balance):\n",
    "            print(f\"You dont have enough balance , your current balance is ${balance}\")\n",
    "        else :\n",
    "            break\n",
    "        \n",
    "    print(f\"You are betting ${bet} on {lines} lines , Total bet is {total_bet}\")\n",
    "    \n",
    "    slots = get_slot_machine_spin(ROWS, COLS, symbol_count)\n",
    "    print_slot_machine(slots)\n",
    "    winnings,winning_lines = check_winnings(slots , lines , bet , symbol_values)\n",
    "    print(f\"you won ${winnings}\")\n",
    "    print(f\"you won on \" , *winning_lines)\n",
    "    return winnings- total_bet"
   ]
  },
  {
   "cell_type": "code",
   "execution_count": 96,
   "id": "a3cff21a-d5cb-4303-b94c-34851546b543",
   "metadata": {},
   "outputs": [],
   "source": [
    "def check_winnings(columns , lines , bet , values):\n",
    "    winnings = 0;\n",
    "    winning_lines = []\n",
    "    \n",
    "    for line in range(lines) :\n",
    "        symbol = columns[0][line]\n",
    "        for column in columns :\n",
    "            symbol_to_check = column[line]\n",
    "            if symbol!= symbol_to_check:\n",
    "                break\n",
    "        else :\n",
    "            winnings += values[symbol]*bet\n",
    "            winning_lines.append(line+1)\n",
    "    return winnings , winning_lines"
   ]
  },
  {
   "cell_type": "code",
   "execution_count": 100,
   "id": "db1fb1e5-2c0f-41f8-8a01-2f9198fddeeb",
   "metadata": {},
   "outputs": [
    {
     "name": "stdin",
     "output_type": "stream",
     "text": [
      "How much amount do you want to deposit ? $ 800\n"
     ]
    },
    {
     "name": "stdout",
     "output_type": "stream",
     "text": [
      "current balance is : $800\n"
     ]
    },
    {
     "name": "stdin",
     "output_type": "stream",
     "text": [
      "press enter to play (q to quit) \n",
      "Enter the number of lines you want to bet on (1-3):  3\n",
      "How much would you like to bet on each line in between 1 - 100 80\n"
     ]
    },
    {
     "name": "stdout",
     "output_type": "stream",
     "text": [
      "You are betting $80 on 3 lines , Total bet is 240\n",
      "C | C | C\n",
      "B | B | D\n",
      "D | D | C\n",
      "you won $240\n",
      "you won on  1\n",
      "current balance is : $800\n"
     ]
    },
    {
     "name": "stdin",
     "output_type": "stream",
     "text": [
      "press enter to play (q to quit) \n",
      "Enter the number of lines you want to bet on (1-3):  3\n",
      "How much would you like to bet on each line in between 1 - 100 100\n"
     ]
    },
    {
     "name": "stdout",
     "output_type": "stream",
     "text": [
      "You are betting $100 on 3 lines , Total bet is 300\n",
      "D | B | C\n",
      "D | C | B\n",
      "B | D | D\n",
      "you won $0\n",
      "you won on \n",
      "current balance is : $500\n"
     ]
    },
    {
     "name": "stdin",
     "output_type": "stream",
     "text": [
      "press enter to play (q to quit) q\n"
     ]
    },
    {
     "name": "stdout",
     "output_type": "stream",
     "text": [
      "You are left with : $500\n"
     ]
    }
   ],
   "source": [
    "main()"
   ]
  },
  {
   "cell_type": "code",
   "execution_count": null,
   "id": "8e8132d2-3b7e-44e3-bf39-1e1e4004c179",
   "metadata": {},
   "outputs": [],
   "source": []
  }
 ],
 "metadata": {
  "kernelspec": {
   "display_name": "Python 3 (ipykernel)",
   "language": "python",
   "name": "python3"
  },
  "language_info": {
   "codemirror_mode": {
    "name": "ipython",
    "version": 3
   },
   "file_extension": ".py",
   "mimetype": "text/x-python",
   "name": "python",
   "nbconvert_exporter": "python",
   "pygments_lexer": "ipython3",
   "version": "3.12.4"
  }
 },
 "nbformat": 4,
 "nbformat_minor": 5
}
